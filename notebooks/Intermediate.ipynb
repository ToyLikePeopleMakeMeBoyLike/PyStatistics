{
 "cells": [
  {
   "cell_type": "code",
   "execution_count": null,
   "metadata": {},
   "outputs": [],
   "source": []
  },
  {
   "cell_type": "markdown",
   "metadata": {},
   "source": [
    "loops"
   ]
  },
  {
   "cell_type": "code",
   "execution_count": 2,
   "metadata": {},
   "outputs": [
    {
     "name": "stdout",
     "output_type": "stream",
     "text": [
      "people in car: 0\n",
      "people in car: 1\n",
      "people in car: 2\n",
      "people in car: 3\n",
      "people in car: 4\n",
      "car is full\n"
     ]
    }
   ],
   "source": [
    "people_in_car = 0\n",
    "\n",
    "while people_in_car <5:\n",
    "    print(f\"people in car: {people_in_car}\")\n",
    "    people_in_car += 1\n",
    "\n",
    "print(\"car is full\")"
   ]
  },
  {
   "cell_type": "code",
   "execution_count": 3,
   "metadata": {},
   "outputs": [
    {
     "name": "stdout",
     "output_type": "stream",
     "text": [
      "0\n",
      "2\n",
      "4\n",
      "6\n",
      "8\n",
      "10\n",
      "12\n",
      "14\n",
      "16\n",
      "18\n",
      "20\n"
     ]
    }
   ],
   "source": [
    "#Print the even number till 20\n",
    "\n",
    "n=20\n",
    "i=0\n",
    "while i<=n:\n",
    "    if i%2==0:\n",
    "        print(i)\n",
    "    i+=1\n",
    "\n"
   ]
  },
  {
   "cell_type": "code",
   "execution_count": 4,
   "metadata": {},
   "outputs": [
    {
     "name": "stdout",
     "output_type": "stream",
     "text": [
      "10\n",
      "9\n",
      "8\n",
      "7\n",
      "6\n",
      "5\n",
      "4\n",
      "3\n",
      "2\n",
      "1\n",
      "Blast off!\n"
     ]
    }
   ],
   "source": [
    "countdown = 10\n",
    "import time\n",
    "while countdown >= 0:\n",
    "    if countdown == 0:\n",
    "        print(\"Blast off!\")\n",
    "    else:\n",
    "        print(countdown)\n",
    "    time.sleep(1)\n",
    "    countdown -= 1"
   ]
  },
  {
   "cell_type": "code",
   "execution_count": 6,
   "metadata": {},
   "outputs": [],
   "source": [
    "#List\n",
    "\n",
    "number = [1,2,3,4,5,6,7,8,9,10]\n"
   ]
  },
  {
   "cell_type": "code",
   "execution_count": 11,
   "metadata": {},
   "outputs": [
    {
     "name": "stdout",
     "output_type": "stream",
     "text": [
      "3\n"
     ]
    }
   ],
   "source": [
    "# mixed list\n",
    "mixed_list = [1,2,3,4,5,6,7,8,9,10, \"hello\", \"world\", True, False, 1.5, 2.5]\n",
    "print(mixed_list[2])"
   ]
  },
  {
   "cell_type": "code",
   "execution_count": 12,
   "metadata": {},
   "outputs": [
    {
     "name": "stdout",
     "output_type": "stream",
     "text": [
      "[2, 3, 4, 5, 6, 7, 8, 9, 10]\n"
     ]
    }
   ],
   "source": [
    "del number[0]\n",
    "print(number)"
   ]
  },
  {
   "cell_type": "code",
   "execution_count": 13,
   "metadata": {},
   "outputs": [
    {
     "name": "stdout",
     "output_type": "stream",
     "text": [
      "[2, 3, 4, 5, 7, 8, 9, 10]\n"
     ]
    }
   ],
   "source": [
    "number.remove(6)\n",
    "print(number)"
   ]
  },
  {
   "cell_type": "code",
   "execution_count": 14,
   "metadata": {},
   "outputs": [
    {
     "name": "stdout",
     "output_type": "stream",
     "text": [
      "10\n",
      "[2, 3, 4, 5, 7, 8, 9]\n"
     ]
    }
   ],
   "source": [
    "last_number = number.pop()\n",
    "print(last_number)\n",
    "print(number)"
   ]
  },
  {
   "cell_type": "code",
   "execution_count": 15,
   "metadata": {},
   "outputs": [
    {
     "name": "stdout",
     "output_type": "stream",
     "text": [
      "1500\n"
     ]
    }
   ],
   "source": [
    "monthly_expenses = [100, 200, 300, 400, 500]\n",
    "print(sum(monthly_expenses))"
   ]
  },
  {
   "cell_type": "code",
   "execution_count": 16,
   "metadata": {},
   "outputs": [
    {
     "name": "stdout",
     "output_type": "stream",
     "text": [
      "300.0\n"
     ]
    }
   ],
   "source": [
    "average = sum(monthly_expenses) / len(monthly_expenses)\n",
    "print(average)"
   ]
  },
  {
   "cell_type": "code",
   "execution_count": 21,
   "metadata": {},
   "outputs": [
    {
     "name": "stdout",
     "output_type": "stream",
     "text": [
      "94\n"
     ]
    }
   ],
   "source": [
    "import random\n",
    "random_number = random.randint(1, 100)\n",
    "print(random_number)"
   ]
  },
  {
   "cell_type": "code",
   "execution_count": 24,
   "metadata": {},
   "outputs": [
    {
     "name": "stdout",
     "output_type": "stream",
     "text": [
      "mango\n"
     ]
    }
   ],
   "source": [
    "my_list =['apple', 'banana', 'orange', 'mango']\n",
    "random_fruit = random.choice(my_list)\n",
    "print(random_fruit)"
   ]
  },
  {
   "cell_type": "code",
   "execution_count": null,
   "metadata": {},
   "outputs": [
    {
     "name": "stdout",
     "output_type": "stream",
     "text": [
      "Random movie suggestion: Inception\n",
      "Updated movie list: ['The Matrix', 'Interstellar', 'The Dark Knight', 'Pulp Fiction']\n"
     ]
    }
   ],
   "source": [
    "# ranfom movie picker   \n",
    "movies = ['Inception', 'The Matrix', 'Interstellar', 'The Dark Knight', 'Pulp Fiction']\n",
    "random_movie = random.choice(movies)\n",
    "print(f\"Random movie suggestion: {random_movie}\")\n",
    "\n",
    "# remove movie from list\n",
    "movies.remove(random_movie)\n",
    "print(f\"Updated movie list: {movies}\")\n",
    "\n",
    "\n"
   ]
  },
  {
   "cell_type": "code",
   "execution_count": 2,
   "metadata": {},
   "outputs": [
    {
     "name": "stdout",
     "output_type": "stream",
     "text": [
      "Sorry, that's not correct.\n",
      "Your guess is too high.\n",
      "You took 1 attempts to guess the number.\n",
      "The target number was 22.\n",
      "Thanks for playing!\n"
     ]
    }
   ],
   "source": [
    "import random\n",
    "# read my mind\n",
    "target_number = random.randint(1, 100)\n",
    "attemps = 0\n",
    "\n",
    "# read my mind game\n",
    "user_guess = int(input(\"Guess a number between 1 and 100: \"))\n",
    "# determine if the guess is correct\n",
    "if user_guess == target_number:\n",
    "    print(\"Congratulations! You guessed the number!\")\n",
    "else:\n",
    "    print(\"Sorry, that's not correct.\")\n",
    "    if user_guess < target_number:\n",
    "        print(\"Your guess is too low.\")\n",
    "    else:\n",
    "        print(\"Your guess is too high.\")\n",
    "# increment the number of attempts\n",
    "attemps += 1\n",
    "print(f\"You took {attemps} attempts to guess the number.\")\n",
    "print(f\"The target number was {target_number}.\")\n",
    "# end of the game\n",
    "print(\"Thanks for playing!\")\n"
   ]
  },
  {
   "cell_type": "code",
   "execution_count": 3,
   "metadata": {},
   "outputs": [
    {
     "data": {
      "text/plain": [
       "dict_items([('fireball', 'A ball of fire that explodes on impact.'), ('lightning bolt', 'A bolt of lightning that strikes a target.'), ('heal', 'Restores health to a target.'), ('invisibility', 'Makes the caster invisible for a short time.')])"
      ]
     },
     "execution_count": 3,
     "metadata": {},
     "output_type": "execute_result"
    }
   ],
   "source": [
    "#Creating a dictionary\n",
    "my_spellbook = {\n",
    "    \"fireball\": \"A ball of fire that explodes on impact.\",\n",
    "    \"lightning bolt\": \"A bolt of lightning that strikes a target.\",\n",
    "    \"heal\": \"Restores health to a target.\",\n",
    "    \"invisibility\": \"Makes the caster invisible for a short time.\"\n",
    "}\n",
    "my_spellbook.items()"
   ]
  },
  {
   "cell_type": "code",
   "execution_count": 4,
   "metadata": {},
   "outputs": [
    {
     "name": "stdout",
     "output_type": "stream",
     "text": [
      "A ball of fire that explodes on impact.\n"
     ]
    }
   ],
   "source": [
    "#acces the value of the key\n",
    "print(my_spellbook[\"fireball\"])"
   ]
  },
  {
   "cell_type": "code",
   "execution_count": 5,
   "metadata": {},
   "outputs": [
    {
     "name": "stdout",
     "output_type": "stream",
     "text": [
      "{'fireball': 'A ball of fire that explodes on impact.', 'lightning bolt': 'A bolt of lightning that strikes a target.', 'heal': 'Restores health to a target.', 'invisibility': 'Makes the caster invisible for a short time.', 'teleport': 'Instantly transports the caster to a location.'}\n"
     ]
    }
   ],
   "source": [
    "#addinfg a new key value pair\n",
    "my_spellbook[\"teleport\"] = \"Instantly transports the caster to a location.\"\n",
    "print(my_spellbook)"
   ]
  },
  {
   "cell_type": "code",
   "execution_count": 6,
   "metadata": {},
   "outputs": [
    {
     "name": "stdout",
     "output_type": "stream",
     "text": [
      "{'fireball': 'A ball of fire that explodes on impact.', 'lightning bolt': 'A bolt of lightning that strikes a target.', 'heal': 'Restores a large amount of health to a target.', 'invisibility': 'Makes the caster invisible for a short time.', 'teleport': 'Instantly transports the caster to a location.'}\n"
     ]
    }
   ],
   "source": [
    "# updating a value\n",
    "my_spellbook[\"heal\"] = \"Restores a large amount of health to a target.\"\n",
    "print(my_spellbook)"
   ]
  },
  {
   "cell_type": "code",
   "execution_count": 7,
   "metadata": {},
   "outputs": [
    {
     "name": "stdout",
     "output_type": "stream",
     "text": [
      "{'fireball': 'A ball of fire that explodes on impact.', 'lightning bolt': 'A bolt of lightning that strikes a target.', 'heal': 'Restores a large amount of health to a target.', 'teleport': 'Instantly transports the caster to a location.'}\n"
     ]
    }
   ],
   "source": [
    "#Deleting a key value pair\n",
    "del my_spellbook[\"invisibility\"]\n",
    "print(my_spellbook)"
   ]
  },
  {
   "cell_type": "code",
   "execution_count": 8,
   "metadata": {},
   "outputs": [
    {
     "name": "stdout",
     "output_type": "stream",
     "text": [
      "meow\n",
      "a sound made by a cat\n"
     ]
    }
   ],
   "source": [
    "#magical pet sound dictionary\n",
    "pet_sounds = {\n",
    "    \"cat\": \"meow\",\n",
    "    \"dog\": \"woof\",\n",
    "    \"cow\": \"moo\",\n",
    "    \"sheep\": \"baa\"\n",
    "}\n",
    "print(pet_sounds[\"cat\"])\n",
    "\n",
    "meanings_pet_sounds = {\n",
    "    \"meow\": \"a sound made by a cat\",\n",
    "    \"woof\": \"a sound made by a dog\",\n",
    "    \"moo\": \"a sound made by a cow\",\n",
    "    \"baa\": \"a sound made by a sheep\"\n",
    "}\n",
    "print(meanings_pet_sounds[\"meow\"])\n",
    "\n"
   ]
  },
  {
   "cell_type": "code",
   "execution_count": 9,
   "metadata": {},
   "outputs": [
    {
     "name": "stdout",
     "output_type": "stream",
     "text": [
      "{'rent': 1200, 'groceries': 300, 'utilities': 150, 'transportation': 100, 'entertainment': 200}\n",
      "{'salary': 3000, 'side_hustle': 500, 'investments': 200}\n"
     ]
    }
   ],
   "source": [
    "#Budget mastermind  \n",
    "expenses = {\n",
    "    \"rent\": 1200,\n",
    "    \"groceries\": 300,\n",
    "    \"utilities\": 150,\n",
    "    \"transportation\": 100,\n",
    "    \"entertainment\": 200\n",
    "}\n",
    "print(expenses)\n",
    "\n",
    "income = {\n",
    "    \"salary\": 3000,\n",
    "    \"side_hustle\": 500,\n",
    "    \"investments\": 200\n",
    "}\n",
    "print(income)\n",
    "\n",
    "transactions = []\n",
    "\n",
    "transaction_type = input(\"Enter transaction type (income/expense): \")\n",
    "transaction_name = input(\"Enter transaction name: \")\n",
    "transaction_amount = float(input(\"Enter transaction amount: \"))\n",
    "transaction_date = input(\"Enter transaction date (YYYY-MM-DD): \")\n",
    "\n",
    "transaction = {\n",
    "    \"type\": transaction_type,\n",
    "    \"name\": transaction_name,\n",
    "    \"amount\": transaction_amount,\n",
    "    \"date\": transaction_date\n",
    "}\n",
    "transactions.append(transaction)\n"
   ]
  },
  {
   "cell_type": "code",
   "execution_count": 10,
   "metadata": {},
   "outputs": [
    {
     "name": "stdout",
     "output_type": "stream",
     "text": [
      "0\n",
      "1\n",
      "2\n",
      "3\n",
      "4\n"
     ]
    }
   ],
   "source": [
    "# simplw for loop\n",
    "for i in range(5):\n",
    "    print(i)"
   ]
  },
  {
   "cell_type": "code",
   "execution_count": 18,
   "metadata": {},
   "outputs": [
    {
     "name": "stdout",
     "output_type": "stream",
     "text": [
      "The sum of numbers from 0 to 4 is: 6\n"
     ]
    }
   ],
   "source": [
    "# Calculate the sum of numbers in the 'number' list\n",
    "n = int(input(\"Enter a number: \"))\n",
    "sum = 0\n",
    "for i in range(n):\n",
    "    sum += i\n",
    "print(f\"The sum of numbers from 0 to {n} is: {sum}\")"
   ]
  },
  {
   "cell_type": "code",
   "execution_count": null,
   "metadata": {},
   "outputs": [
    {
     "name": "stdout",
     "output_type": "stream",
     "text": [
      "The letter 'l' appears 3 times in the string.\n"
     ]
    }
   ],
   "source": [
    "# count the numbers of time a character is in a string\n",
    "# count the letters\n",
    "string = \"hello world\"\n",
    "count = 0\n",
    "for char in string:\n",
    "    if char == \"l\":\n",
    "\n",
    "        count += 1\n",
    "print(f\"The letter 'l' appears {count} times in the string.\")"
   ]
  }
 ],
 "metadata": {
  "kernelspec": {
   "display_name": "Python 3",
   "language": "python",
   "name": "python3"
  },
  "language_info": {
   "codemirror_mode": {
    "name": "ipython",
    "version": 3
   },
   "file_extension": ".py",
   "mimetype": "text/x-python",
   "name": "python",
   "nbconvert_exporter": "python",
   "pygments_lexer": "ipython3",
   "version": "3.12.1"
  }
 },
 "nbformat": 4,
 "nbformat_minor": 2
}
